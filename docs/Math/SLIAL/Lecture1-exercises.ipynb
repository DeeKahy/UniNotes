{
 "cells": [
  {
   "attachments": {},
   "cell_type": "markdown",
   "metadata": {},
   "source": [
    "1.6 Vector of differences. Suppose x is an n-vector. The associated vector of differences is the\n",
    "(n − 1)-vector d given by d = (x2 − x1, x3 − x2, . . . , xn − xn−1). Express d in terms of x\n",
    "using vector operations (e.g., slicing notation, sum, difference, linear combinations, inner\n",
    "product). The difference vector has a simple interpretation when x represents a time\n",
    "series. For example, if x gives the daily value of some quantity, d gives the day-to-day\n",
    "changes in the quantity $2^1$"
   ]
  },
  {
   "attachments": {},
   "cell_type": "markdown",
   "metadata": {},
   "source": [
    "$$d = (x[2:n] - x[2:n-1])$$\n",
    "$$d = x~2:n - x~2:n-1$$"
   ]
  }
 ],
 "metadata": {
  "kernelspec": {
   "display_name": "Python 3",
   "language": "python",
   "name": "python3"
  },
  "language_info": {
   "codemirror_mode": {
    "name": "ipython",
    "version": 3
   },
   "file_extension": ".py",
   "mimetype": "text/x-python",
   "name": "python",
   "nbconvert_exporter": "python",
   "pygments_lexer": "ipython3",
   "version": "3.9.6"
  },
  "orig_nbformat": 4,
  "vscode": {
   "interpreter": {
    "hash": "31f2aee4e71d21fbe5cf8b01ff0e069b9275f58929596ceb00d14d90e3e16cd6"
   }
  }
 },
 "nbformat": 4,
 "nbformat_minor": 2
}
