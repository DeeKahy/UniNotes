{
 "cells": [
  {
   "attachments": {},
   "cell_type": "markdown",
   "metadata": {},
   "source": [
    "Solve the following exercises. The exercises that are more involved are marked with a star. If you\n",
    "need some guidance for solving the exercise, place your trash bin in front of your group room’s door\n",
    "and the first available teaching assistant will come to help you out."
   ]
  },
  {
   "attachments": {},
   "cell_type": "markdown",
   "metadata": {},
   "source": [
    "Exercise 1.\n",
    "Consider the problem of finding the two smallest numbers in a nonempty sequence of numbers ⟨a1, . . . , an⟩ not necessarily sorted.\n",
    "\n",
    "(a) Formalise the above as a computational problem (be careful to precisely define the input, the output, and their relationship).\n",
    "\n",
    "(b) Write the pseudocode of an algorithm that solves the above computational problem assuming the sequence is given as an array A[1 . . n].\n",
    "\n",
    "(c) Assume that line i of your pseudocode takes constant time ci to execute. What is the worst case\n",
    "running time of your algorithm?\n"
   ]
  }
 ],
 "metadata": {
  "kernelspec": {
   "display_name": "Python 3",
   "language": "python",
   "name": "python3"
  },
  "language_info": {
   "name": "python",
   "version": "3.10.9"
  },
  "orig_nbformat": 4,
  "vscode": {
   "interpreter": {
    "hash": "2d0a7da6d1d774fca85c83a6a57f46196af254e30d4e1fda5dc5dbfd670b2bbf"
   }
  }
 },
 "nbformat": 4,
 "nbformat_minor": 2
}
