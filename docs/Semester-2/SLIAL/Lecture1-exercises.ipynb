{
 "cells": [
  {
   "attachments": {},
   "cell_type": "markdown",
   "metadata": {},
   "source": [
    "------------------------\n",
    "1.6 Vector of differences. Suppose x is an n-vector. The associated vector of differences is the\n",
    "(n − 1)-vector d given by d = (x2 − x1, x3 − x2, . . . , xn − xn−1). Express d in terms of x\n",
    "using vector operations (e.g., slicing notation, sum, difference, linear combinations, inner\n",
    "product). The difference vector has a simple interpretation when x represents a time\n",
    "series. For example, if x gives the daily value of some quantity, d gives the day-to-day\n",
    "changes in the quantity $2^1$"
   ]
  },
  {
   "attachments": {},
   "cell_type": "markdown",
   "metadata": {},
   "source": [
    "$$d = (x_{2:n}-x_{2:n-1})$$\n"
   ]
  },
  {
   "attachments": {},
   "cell_type": "markdown",
   "metadata": {},
   "source": [
    "------------------------\n",
    "1.7 Transforming between two encodings for Boolean vectors. A Boolean n-vector is one\n",
    "for which all entries are either 0 or 1. Such vectors are used to encode whether each\n",
    "of n conditions holds, with ai = 1 meaning that condition i holds. Another common\n",
    "encoding of the same information uses the two values −1 and +1 for the entries. For\n",
    "example the Boolean vector (0, 1, 1, 0) would be written using this alternative encoding\n",
    "as (−1, +1, +1, −1). Suppose that x is a Boolean vector with entries that are 0 or 1, and\n",
    "y is a vector encoding the same information using the values −1 and +1. Express y in\n",
    "terms of x using vector notation. Also, express x in terms of y using vector notation.\n"
   ]
  },
  {
   "attachments": {},
   "cell_type": "markdown",
   "metadata": {},
   "source": [
    "$$y=2x-1$$\n",
    "$$x=y+1/2$$"
   ]
  },
  {
   "attachments": {},
   "cell_type": "markdown",
   "metadata": {},
   "source": [
    "------------------------\n",
    "1.4 Periodic energy usage. The 168-vector w gives the hourly electricity consumption of\n",
    "a manufacturing plant, starting on Sunday midnight to 1AM, over one week, in MWh\n",
    "(megawatt-hours). The consumption pattern is the same each day, i.e., it is 24-periodic,\n",
    "which means that wt+24 = wt for t = 1, . . . , 144. Let d be the 24-vector that gives the\n",
    "energy consumption over one day, starting at midnight.\n",
    "(a) Use vector notation to express w in terms of d.\n",
    "(b) Use vector notation to express d in terms of w"
   ]
  },
  {
   "attachments": {},
   "cell_type": "markdown",
   "metadata": {},
   "source": [
    "a) $$w=\\begin{bmatrix}d\\\\d\\\\d\\\\d\\\\d\\\\d\\\\d\\end{bmatrix}$$\n",
    "\n",
    "\n",
    "b) $$d=W_{1:24}$$\n"
   ]
  },
  {
   "attachments": {},
   "cell_type": "markdown",
   "metadata": {},
   "source": [
    "------------------------\n",
    "1.18 Linear combinations of linear combinations. Suppose that each of the vectors b1, . . . , bk is a linear combination of the vectors a1, . . . , am, and c is a linear combination of b1, . . . , bk. Then c is a linear combination of a1, . . . , am. Show this for the case with m = k = 2. (Showing it in general is not much more difficult, but the notation gets more complicated.)\n"
   ]
  },
  {
   "attachments": {},
   "cell_type": "markdown",
   "metadata": {},
   "source": [
    "Let's assume the following linear combinations for b1 and b2:\n",
    "\n",
    "$$b1 = c1 * a1 + c2 * a2$$\n",
    "$$b2 = d1 * a1 + d2 * a2$$\n",
    "\n",
    "where c1, c2, d1, and d2 are scalars.\n",
    "\n",
    "Now, let's assume that c is a linear combination of b1 and b2:\n",
    "\n",
    "$$c = e1 * b1 + e2 * b2$$\n",
    "\n",
    "Expanding the expressions for b1 and b2, we get:\n",
    "\n",
    "$$c = e1 * (c1 * a1 + c2 * a2) + e2 * (d1 * a1 + d2 * a2)$$\n",
    "\n",
    "Using the distributive property, we can simplify this expression as follows:\n",
    "\n",
    "$$c = (e1 * c1) * a1 + (e1 * c2) * a2 + (e2 * d1) * a1 + (e2 * d2) * a2$$\n",
    "\n",
    "Therefore, c is a linear combination of a1 and a2, which means that any linear combination of linear combinations is a linear combination of the original vectors."
   ]
  },
  {
   "attachments": {},
   "cell_type": "markdown",
   "metadata": {},
   "source": [
    "------------------------\n",
    "2.1 Linear or not? Determine whether each of the following scalar-valued functions of n\u0002vectors is linear. If it is a linear function, give its inner product representation, i.e., an\n",
    "n-vector a for which f(x) = a\n",
    "T x for all x. If it is not linear, give specific x, y, α, and β\n",
    "for which superposition fails, i.e.,\n",
    "f(αx + βy) 6= αf(x) + βf(y).\n",
    "(a) The spread of values of the vector, defined as f(x) = maxk xk − mink xk.\n",
    "(b) The difference of the last element and the first, f(x) = xn − x1.\n",
    "(c) The median of an n-vector, where we will assume n = 2k + 1 is odd. The median of\n",
    "the vector x is defined as the (k + 1)st largest number among the entries of x. For\n",
    "example, the median of (−7.1, 3.2, −1.5) is −1.5.\n",
    "(d) The average of the entries with odd indices, minus the average of the entries with\n",
    "even indices. You can assume that n = 2k is even.\n",
    "(e) Vector extrapolation, defined as xn + (xn − xn−1), for n ≥ 2. (This is a simple\n",
    "prediction of what xn+1 would be, based on a straight line drawn through xn and\n",
    "xn−1.)"
   ]
  }
 ],
 "metadata": {
  "kernelspec": {
   "display_name": "Python 3",
   "language": "python",
   "name": "python3"
  },
  "language_info": {
   "codemirror_mode": {
    "name": "ipython",
    "version": 3
   },
   "file_extension": ".py",
   "mimetype": "text/x-python",
   "name": "python",
   "nbconvert_exporter": "python",
   "pygments_lexer": "ipython3",
   "version": "3.10.9"
  },
  "orig_nbformat": 4,
  "vscode": {
   "interpreter": {
    "hash": "2d0a7da6d1d774fca85c83a6a57f46196af254e30d4e1fda5dc5dbfd670b2bbf"
   }
  }
 },
 "nbformat": 4,
 "nbformat_minor": 2
}
